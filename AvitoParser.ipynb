{
 "cells": [
  {
   "cell_type": "markdown",
   "metadata": {},
   "source": [
    "## Импорт библиотек"
   ]
  },
  {
   "cell_type": "code",
   "execution_count": 1,
   "metadata": {},
   "outputs": [],
   "source": [
    "import json\n",
    "import re\n",
    "import pandas as pd\n",
    "import time \n",
    "import random\n",
    "from selenium import webdriver\n",
    "from selenium.webdriver.chrome.options import Options\n",
    "from selenium.webdriver.chrome.service import Service"
   ]
  },
  {
   "cell_type": "markdown",
   "metadata": {},
   "source": [
    "## Памятка, что парсить"
   ]
  },
  {
   "cell_type": "markdown",
   "metadata": {},
   "source": [
    "**Владивосток**: https://www.avito.ru/vladivostok/predlozheniya_uslug  \n",
    "**Ростов**: https://www.avito.ru/rostov/predlozheniya_uslug  \n",
    "**Санкт-Петербург**: https://www.avito.ru/sankt-peterburg/predlozheniya_uslug  \n",
    "**Москва**: https://www.avito.ru/moskva/predlozheniya_uslug  "
   ]
  },
  {
   "cell_type": "markdown",
   "metadata": {},
   "source": [
    "## Я обернул все функции в класс AvitoParser"
   ]
  },
  {
   "cell_type": "code",
   "execution_count": 2,
   "metadata": {},
   "outputs": [],
   "source": [
    "class AvitoParser:\n",
    "    \n",
    "    #Конструктор класса, принимает ключ авито-api, \n",
    "    #selenium driver, ссылку api, \n",
    "    #а также категорию авито (в нашем случае это услуги)\n",
    "    \n",
    "    def __init__(self, key, driver, api_url, category_type_id):\n",
    "        \n",
    "        self.key = key\n",
    "        self.driver = driver\n",
    "        self.api_url = api_url\n",
    "        self.category_type_id = category_type_id\n",
    "    \n",
    "    #Главная функция, принимает id города и аргумент parse_sub. \n",
    "    #Если parse_sub=False(по дефолту) - парсим толко главные категории, если True - парсим все до крайних.\n",
    "    #На выходе отдаёт данные по городу в формате dataframe.\n",
    "    \n",
    "    def parse(self, location_id, parse_sub=False):\n",
    "        \n",
    "        final_data = []\n",
    "        \n",
    "        if location_id == '644560':\n",
    "            city_name = 'Владивосток'\n",
    "        elif location_id == '637640':\n",
    "            city_name = 'Москва'   \n",
    "        elif location_id == '662750':\n",
    "            city_name = 'Ростов'\n",
    "        elif location_id == '653240':\n",
    "            city_name = 'Санкт-Петербург'\n",
    "            \n",
    "        main_body_pos = 1\n",
    "        body_categories_pos = 15\n",
    "        \n",
    "        service_url = f'{self.api_url}11/items?key={self.key}&categoryId={self.category_type_id}&locationId={location_id}'\n",
    "        self.driver.get(service_url)\n",
    "        content = self.driver.page_source\n",
    "        \n",
    "        result = re.search('{(.*)}', content).group(0)\n",
    "        json_data = json.loads(result)['result']\n",
    "        categories_data = json_data['items'][main_body_pos]['value']['items'][body_categories_pos]['actions']\n",
    "        \n",
    "        for category in categories_data:\n",
    "            \n",
    "            if parse_sub:\n",
    "                \n",
    "                category_data = self.get_all_categories(category)\n",
    "                \n",
    "            else:\n",
    "                \n",
    "                category_data = self.get_main_categories(category)\n",
    "                \n",
    "            final_data.append(category_data)\n",
    "            time.sleep(random.randint(1,5))\n",
    "            \n",
    "        df = pd.concat(final_data, ignore_index=True) \n",
    "        df['city_name'] = len(df)*[city_name]\n",
    "        \n",
    "        return df\n",
    "    \n",
    "    #Функция парсит данные главной категории, полученной на вход.\n",
    "    #На выходе отдаёт данные по главной в формате dataframe.\n",
    "    \n",
    "    def get_main_categories(self, category):\n",
    "        \n",
    "        main_category = {}\n",
    "        \n",
    "        main_category['main_category_title'] = category['title']\n",
    "        main_category['sub_category_title'] = None\n",
    "        main_category_link = re.search('category(.*)', category['uri']).group(0)\n",
    "        \n",
    "        main_category_url = f\"{self.api_url}11/items?key={self.key}&{main_category_link}\"\n",
    "        self.driver.get(main_category_url)\n",
    "        content = self.driver.page_source\n",
    "        \n",
    "        result = json.loads(re.search('{(.*)}', content).group(0))\n",
    "        main_category['sub_category_total'] = result['result']['totalCount']-result['result'][\"expanded_count\"]\n",
    "        \n",
    "        time.sleep(random.randint(1,7))\n",
    "        \n",
    "        return pd.DataFrame([main_category])\n",
    "    \n",
    "    #Функция парсит данные подкатегорий категории, полученной на вход.\n",
    "    #На выходе отдаёт данные по подкатегориям в формате dataframe.\n",
    "    \n",
    "    def get_all_categories(self, category):\n",
    "    \n",
    "        sub_categories_data = []\n",
    "\n",
    "        if 'actions' not in category.keys():\n",
    "\n",
    "            return self.get_main_categories(category)\n",
    "\n",
    "        for sub in category['actions']:\n",
    "\n",
    "            sub_categories = {}\n",
    "\n",
    "            if sub['title']!='Все категории':\n",
    "\n",
    "                sub_categories['main_category_title'] = category['title']\n",
    "\n",
    "                if 'title' in sub.keys():\n",
    "\n",
    "                    sub_categories['sub_category_title'] = sub['title']\n",
    "                    sub_category_link = re.search('category(.*)', sub['uri']).group(0)\n",
    "\n",
    "                    sub_category_url = f\"{self.api_url}11/items?key={self.key}&{sub_category_link}\"\n",
    "                    self.driver.get(sub_category_url)\n",
    "                    content = self.driver.page_source\n",
    "\n",
    "                    result = json.loads(re.search('{(.*)}', content).group(0))\n",
    "                    sub_categories['sub_category_total'] = result['result']['totalCount'] - result['result'][\"expanded_count\"]\n",
    "                    sub_categories_data.append(sub_categories)\n",
    "\n",
    "                    time.sleep(random.randint(1,7))\n",
    "\n",
    "        return pd.DataFrame(sub_categories_data)"
   ]
  },
  {
   "cell_type": "markdown",
   "metadata": {},
   "source": [
    "## Настраиваем selenium, я использую Chrome webdriver"
   ]
  },
  {
   "cell_type": "code",
   "execution_count": 3,
   "metadata": {},
   "outputs": [],
   "source": [
    "options = Options()\n",
    "options.add_argument(\"--headless\")\n",
    "service=Service('chromedriver.exe')\n",
    "\n",
    "driver = webdriver.Chrome(service=service, options=options)"
   ]
  },
  {
   "cell_type": "markdown",
   "metadata": {},
   "source": [
    "## Создаём переменные, которые необходимо передать в наш класс и создаём экземпляр parser."
   ]
  },
  {
   "cell_type": "code",
   "execution_count": 4,
   "metadata": {},
   "outputs": [],
   "source": [
    "api_url = 'https://m.avito.ru/api/'\n",
    "key = 'af0deccbgcgidddjgnvljitntccdduijhdinfgjgfjir'\n",
    "category_type_id = '114'\n",
    "location_id_vl = '644560'\n",
    "location_id_msk = '637640'\n",
    "location_id_rs = '662750'\n",
    "location_id_spb = '653240'\n",
    "\n",
    "parser = AvitoParser(key, driver, api_url, category_type_id)"
   ]
  },
  {
   "cell_type": "markdown",
   "metadata": {},
   "source": [
    "## Вызываем метод parse нашего экземпляра и парсим каждый город"
   ]
  },
  {
   "cell_type": "code",
   "execution_count": 5,
   "metadata": {},
   "outputs": [
    {
     "name": "stdout",
     "output_type": "stream",
     "text": [
      "Wall time: 17min 18s\n"
     ]
    }
   ],
   "source": [
    "%%time\n",
    "\n",
    "msk_df = parser.parse(location_id_msk)\n",
    "time.sleep(random.randint(15,30))\n",
    "\n",
    "rs_df = parser.parse(location_id_rs)\n",
    "time.sleep(random.randint(15,30))\n",
    "\n",
    "spb_df = parser.parse(location_id_spb)\n",
    "time.sleep(random.randint(15,30))\n",
    "\n",
    "vl_df = parser.parse(location_id_vl, parse_sub=True)"
   ]
  },
  {
   "cell_type": "markdown",
   "metadata": {},
   "source": [
    "## Соединяем всё в единый dataframe и записываем в csv"
   ]
  },
  {
   "cell_type": "code",
   "execution_count": 6,
   "metadata": {},
   "outputs": [
    {
     "data": {
      "text/html": [
       "<div>\n",
       "<style scoped>\n",
       "    .dataframe tbody tr th:only-of-type {\n",
       "        vertical-align: middle;\n",
       "    }\n",
       "\n",
       "    .dataframe tbody tr th {\n",
       "        vertical-align: top;\n",
       "    }\n",
       "\n",
       "    .dataframe thead th {\n",
       "        text-align: right;\n",
       "    }\n",
       "</style>\n",
       "<table border=\"1\" class=\"dataframe\">\n",
       "  <thead>\n",
       "    <tr style=\"text-align: right;\">\n",
       "      <th></th>\n",
       "      <th>main_category_title</th>\n",
       "      <th>sub_category_title</th>\n",
       "      <th>sub_category_total</th>\n",
       "      <th>city_name</th>\n",
       "    </tr>\n",
       "  </thead>\n",
       "  <tbody>\n",
       "    <tr>\n",
       "      <th>0</th>\n",
       "      <td>Транспорт, перевозки</td>\n",
       "      <td>None</td>\n",
       "      <td>37111</td>\n",
       "      <td>Москва</td>\n",
       "    </tr>\n",
       "    <tr>\n",
       "      <th>1</th>\n",
       "      <td>Ремонт, строительство</td>\n",
       "      <td>None</td>\n",
       "      <td>14443</td>\n",
       "      <td>Москва</td>\n",
       "    </tr>\n",
       "    <tr>\n",
       "      <th>2</th>\n",
       "      <td>Мастер на час</td>\n",
       "      <td>None</td>\n",
       "      <td>2538</td>\n",
       "      <td>Москва</td>\n",
       "    </tr>\n",
       "    <tr>\n",
       "      <th>3</th>\n",
       "      <td>Сад, благоустройство</td>\n",
       "      <td>None</td>\n",
       "      <td>1800</td>\n",
       "      <td>Москва</td>\n",
       "    </tr>\n",
       "    <tr>\n",
       "      <th>4</th>\n",
       "      <td>Красота, здоровье</td>\n",
       "      <td>None</td>\n",
       "      <td>28518</td>\n",
       "      <td>Москва</td>\n",
       "    </tr>\n",
       "  </tbody>\n",
       "</table>\n",
       "</div>"
      ],
      "text/plain": [
       "     main_category_title sub_category_title  sub_category_total city_name\n",
       "0   Транспорт, перевозки               None               37111    Москва\n",
       "1  Ремонт, строительство               None               14443    Москва\n",
       "2          Мастер на час               None                2538    Москва\n",
       "3   Сад, благоустройство               None                1800    Москва\n",
       "4      Красота, здоровье               None               28518    Москва"
      ]
     },
     "execution_count": 6,
     "metadata": {},
     "output_type": "execute_result"
    }
   ],
   "source": [
    "all_df = pd.concat([msk_df, rs_df, spb_df, vl_df], ignore_index=True)\n",
    "all_df.head()"
   ]
  },
  {
   "cell_type": "code",
   "execution_count": 7,
   "metadata": {},
   "outputs": [],
   "source": [
    "all_df.to_csv('parsed_categories.csv', index=False)"
   ]
  },
  {
   "cell_type": "markdown",
   "metadata": {},
   "source": [
    "## Ссылка на API для получения номера телефона по идентификатору объявления (id_obj - идентификатор объявления)."
   ]
  },
  {
   "cell_type": "code",
   "execution_count": 8,
   "metadata": {},
   "outputs": [],
   "source": [
    "id_obj = '1542618863'\n",
    "phone_numbers = f'{api_url}1/items/{id_obj}/phone?key={key}'"
   ]
  }
 ],
 "metadata": {
  "kernelspec": {
   "display_name": "Python 3",
   "language": "python",
   "name": "python3"
  },
  "language_info": {
   "codemirror_mode": {
    "name": "ipython",
    "version": 3
   },
   "file_extension": ".py",
   "mimetype": "text/x-python",
   "name": "python",
   "nbconvert_exporter": "python",
   "pygments_lexer": "ipython3",
   "version": "3.8.5"
  }
 },
 "nbformat": 4,
 "nbformat_minor": 4
}
